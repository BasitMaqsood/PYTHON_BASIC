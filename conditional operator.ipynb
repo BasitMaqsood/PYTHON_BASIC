{
 "cells": [
  {
   "cell_type": "markdown",
   "metadata": {},
   "source": [
    "# if Statement"
   ]
  },
  {
   "cell_type": "code",
   "execution_count": 1,
   "metadata": {},
   "outputs": [
    {
     "name": "stdout",
     "output_type": "stream",
     "text": [
      "b is greater than a\n",
      "value of a 100\n",
      "value of b 200\n",
      "Pakistan\n"
     ]
    }
   ],
   "source": [
    "a = 100\n",
    "b = 200\n",
    "\n",
    "if a < b:   #return True\n",
    "    print(\"b is greater than a\")\n",
    "    print(\"value of a\", a)\n",
    "    print(\"value of b\", b)\n",
    "    \n",
    "print(\"Pakistan\")"
   ]
  },
  {
   "cell_type": "code",
   "execution_count": 2,
   "metadata": {},
   "outputs": [
    {
     "name": "stdout",
     "output_type": "stream",
     "text": [
      "Pakistan is the Best\n",
      "value of a 100 value of b 200\n"
     ]
    }
   ],
   "source": [
    "a = 100\n",
    "b = 200\n",
    "\n",
    "if b < a:     #return False\n",
    "    print(\"a is greater than b\")\n",
    "    print(\"value of a\", a)\n",
    "    print(\"value of b\", b)\n",
    "    \n",
    "print(\"Pakistan is the Best\")\n",
    "print(\"value of a\", a, \"value of b\", b)\n"
   ]
  }
 ],
 "metadata": {
  "kernelspec": {
   "display_name": "Python 3",
   "language": "python",
   "name": "python3"
  },
  "language_info": {
   "codemirror_mode": {
    "name": "ipython",
    "version": 3
   },
   "file_extension": ".py",
   "mimetype": "text/x-python",
   "name": "python",
   "nbconvert_exporter": "python",
   "pygments_lexer": "ipython3",
   "version": "3.7.3"
  }
 },
 "nbformat": 4,
 "nbformat_minor": 2
}
