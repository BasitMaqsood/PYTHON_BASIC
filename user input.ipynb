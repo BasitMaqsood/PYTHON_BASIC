{
 "cells": [
  {
   "cell_type": "markdown",
   "metadata": {},
   "source": [
    "### Python example to accept input from a user"
   ]
  },
  {
   "cell_type": "code",
   "execution_count": 1,
   "metadata": {},
   "outputs": [
    {
     "name": "stdout",
     "output_type": "stream",
     "text": [
      "Enter Employee NameBasit Maqsood\n",
      "Enter Employee Salary100000000\n",
      "Enter Employee CompanyCipher Savy \n",
      "Employee Details \n",
      "Name Salary Company\n",
      "Basit Maqsood 100000000 Cipher Savy \n"
     ]
    }
   ],
   "source": [
    "name = input(\"Enter Employee Name\")\n",
    "salary = input(\"Enter Employee Salary\")\n",
    "company = input(\"Enter Employee Company\")\n",
    "\n",
    "print(\"Employee Details \")\n",
    "print(\"Name\", \"Salary\", \"Company\")\n",
    "print(name, salary, company)"
   ]
  },
  {
   "cell_type": "markdown",
   "metadata": {},
   "source": [
    "### Accept an Integer input from User"
   ]
  },
  {
   "cell_type": "code",
   "execution_count": 2,
   "metadata": {},
   "outputs": [
    {
     "name": "stdout",
     "output_type": "stream",
     "text": [
      "Enter first number:88\n",
      "Enter second number:99\n",
      "Sum of 88 and 99 is 187\n"
     ]
    }
   ],
   "source": [
    "number1 = int (input(\"Enter first number:\"))\n",
    "number2 = int (input(\"Enter second number:\"))\n",
    "\n",
    "result = number1 + number2\n",
    "\n",
    "print(\"Sum of\", number1, \"and\", number2, \"is\", result)"
   ]
  },
  {
   "cell_type": "markdown",
   "metadata": {},
   "source": [
    "### Accept float input from User"
   ]
  },
  {
   "cell_type": "code",
   "execution_count": 3,
   "metadata": {},
   "outputs": [
    {
     "name": "stdout",
     "output_type": "stream",
     "text": [
      "Enter float Number: 99.776\n",
      "Inout float number is  99.776\n",
      "type is  <class 'float'>\n"
     ]
    }
   ],
   "source": [
    "float_number = float (input(\"Enter float Number: \"))\n",
    "\n",
    "print(\"Inout float number is \", float_number)\n",
    "print(\"type is \", type(float_number))"
   ]
  },
  {
   "cell_type": "code",
   "execution_count": null,
   "metadata": {},
   "outputs": [],
   "source": []
  },
  {
   "cell_type": "code",
   "execution_count": null,
   "metadata": {},
   "outputs": [],
   "source": []
  }
 ],
 "metadata": {
  "kernelspec": {
   "display_name": "Python 3",
   "language": "python",
   "name": "python3"
  },
  "language_info": {
   "codemirror_mode": {
    "name": "ipython",
    "version": 3
   },
   "file_extension": ".py",
   "mimetype": "text/x-python",
   "name": "python",
   "nbconvert_exporter": "python",
   "pygments_lexer": "ipython3",
   "version": "3.7.3"
  }
 },
 "nbformat": 4,
 "nbformat_minor": 2
}
